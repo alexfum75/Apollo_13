{
 "cells": [
  {
   "cell_type": "code",
   "id": "initial_id",
   "metadata": {
    "collapsed": true,
    "ExecuteTime": {
     "end_time": "2025-07-01T15:01:02.261870Z",
     "start_time": "2025-07-01T15:01:02.106911Z"
    }
   },
   "source": [
    "import numpy as np\n",
    "\n",
    "PI = np.pi\n",
    "\n",
    "satellite_density = {5500, 2500, 700} # kg/m^3 (Terra, Luna, cometa)\n",
    "# Planet data: [Mass (kg), Radius (m), a (Km), e]\n",
    "# Masses are in kg, Radii are converted from km to meters.\n",
    "planet_data = {\n",
    "    \"Earth\": [5.97e24, 6371e3, 149597870, 0.0167],\n",
    "    \"Moon\": [7.346e22, 1737e3, 384400, 0.0549],\n",
    "}\n",
    "\n",
    "Mile_Conversion = 0.539957\n",
    "\n",
    "def calculate_roche_limit(planet_mass, planet_radius, satellite_density):\n",
    "    #https://spacemath.gsfc.nasa.gov/moon/5Page49.pdf\n",
    "    #satellite_density (float): Density of the orbiting satellite in kg/m^3.\n",
    "    planet_volume = (4/3) * PI * (planet_radius**3)\n",
    "    planet_density = planet_mass / planet_volume\n",
    "    roche_limit = planet_radius * 2.4 * ((planet_density / satellite_density))**(1/3)\n",
    "    return roche_limit\n",
    "\n",
    "\n",
    "def calculate_hill_sphere(planet_mass, semi_major_axis, reference_planet_mass, eccentricity):\n",
    "    hill_sphere_radius = (1 - eccentricity) * semi_major_axis * (planet_mass / (3 * reference_planet_mass))**(1/3)\n",
    "    return hill_sphere_radius\n",
    "\n",
    "\n",
    "def calculate_laplace_sphere(planet_mass, semi_major_axis, reference_planet_mass):\n",
    "    #laplace_sphere_radius = (0.9431) * semi_major_axis * (planet_mass / (reference_planet_mass))**(2/5)\n",
    "    laplace_sphere_radius = semi_major_axis * (planet_mass / (reference_planet_mass))**(2/5)\n",
    "    return laplace_sphere_radius\n",
    "\n",
    "\n",
    "for body in satellite_density:\n",
    "    for name, data in planet_data.items():\n",
    "        mass, radius, axis, e = data\n",
    "        roche_limit_meters = calculate_roche_limit(mass, radius, body)\n",
    "        roche_limit_km = roche_limit_meters / 1000\n",
    "        print(f\"Body density: {body} kg/m^3 Roche Limit for {name} = {roche_limit_km:.2f} km ({roche_limit_km * Mile_Conversion:.2f} nmi)\")\n",
    "\n",
    "print (\"\")\n",
    "m_s = 1.989e30\n",
    "# Geoinformation modeling of near-Earth space: current tasks and future prospects\n",
    "r_hill = calculate_hill_sphere(planet_data['Earth'][0], planet_data['Earth'][2], m_s, planet_data['Earth'][3])\n",
    "print (f\"Sfera di Hill della Terra ha raggio: {r_hill} Km ({r_hill * Mile_Conversion:.2f} nmi)\")\n",
    "a = 384400 #km\n",
    "m_m = 7.346e22\n",
    "m_e = 5.97e24\n",
    "r_hill = calculate_hill_sphere(planet_data['Moon'][0], planet_data['Moon'][2], planet_data['Earth'][0], planet_data['Moon'][3])\n",
    "print (f\"Sfera di Hill della Luna ha raggio: {r_hill} Km ({r_hill * Mile_Conversion:.2f} nmi)\")\n",
    "\n",
    "print (\"\")\n",
    "m_s = 1.989e30\n",
    "#  Spacecraft and Aircraft Dynamics (Illinois) : Interplanetary Mission, Planning Matthew M. Peet\n",
    "r_laplace = calculate_laplace_sphere(planet_data['Earth'][0], planet_data['Earth'][2], m_s)\n",
    "print (f\"Sfera di Laplace (SOI) della Terra ha raggio: {r_laplace} Km ({r_laplace * Mile_Conversion:.2f} nmi)\")\n",
    "a = 384400 #km\n",
    "m_m = 7.346e22\n",
    "m_e = 5.97e24\n",
    "r_laplace = calculate_laplace_sphere(planet_data['Moon'][0], planet_data['Moon'][2], planet_data['Earth'][0])\n",
    "print (f\"Sfera di Laplace (SOI) della Luna ha raggio: {r_laplace} Km ({r_laplace * Mile_Conversion:.2f} nmi)\")"
   ],
   "outputs": [
    {
     "name": "stdout",
     "output_type": "stream",
     "text": [
      "Body density: 5500 kg/m^3 Roche Limit for Earth = 15300.97 km (8261.87 nmi)\n",
      "Body density: 5500 kg/m^3 Roche Limit for Moon = 3532.46 km (1907.38 nmi)\n",
      "Body density: 2500 kg/m^3 Roche Limit for Earth = 19900.31 km (10745.31 nmi)\n",
      "Body density: 2500 kg/m^3 Roche Limit for Moon = 4594.29 km (2480.72 nmi)\n",
      "Body density: 700 kg/m^3 Roche Limit for Earth = 30418.69 km (16424.78 nmi)\n",
      "Body density: 700 kg/m^3 Roche Limit for Moon = 7022.62 km (3791.91 nmi)\n",
      "\n",
      "Sfera di Hill della Terra ha raggio: 1471242.3362534388 Km (794407.60 nmi)\n",
      "Sfera di Hill della Luna ha raggio: 58153.9994772027 Km (31400.66 nmi)\n",
      "\n",
      "Sfera di Laplace (SOI) della Terra ha raggio: 924402.7509079104 Km (499137.74 nmi)\n",
      "Sfera di Laplace (SOI) della Luna ha raggio: 66193.29744071953 Km (35741.53 nmi)\n"
     ]
    }
   ],
   "execution_count": 1
  },
  {
   "metadata": {
    "ExecuteTime": {
     "end_time": "2025-07-01T15:13:26.085833Z",
     "start_time": "2025-07-01T15:13:26.082797Z"
    }
   },
   "cell_type": "code",
   "source": "",
   "id": "2a95c2a7cdb298c4",
   "outputs": [],
   "execution_count": null
  },
  {
   "metadata": {},
   "cell_type": "code",
   "outputs": [],
   "execution_count": null,
   "source": "",
   "id": "9c78ae2d4472744f"
  }
 ],
 "metadata": {
  "kernelspec": {
   "display_name": "Python 3",
   "language": "python",
   "name": "python3"
  },
  "language_info": {
   "codemirror_mode": {
    "name": "ipython",
    "version": 2
   },
   "file_extension": ".py",
   "mimetype": "text/x-python",
   "name": "python",
   "nbconvert_exporter": "python",
   "pygments_lexer": "ipython2",
   "version": "2.7.6"
  }
 },
 "nbformat": 4,
 "nbformat_minor": 5
}
